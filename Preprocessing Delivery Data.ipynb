{
 "cells": [
  {
   "cell_type": "code",
   "execution_count": 1,
   "id": "d34d3802",
   "metadata": {},
   "outputs": [],
   "source": [
    "import pandas as pd\n",
    "import numpy as np\n",
    "import matplotlib.pyplot as plt"
   ]
  },
  {
   "cell_type": "code",
   "execution_count": 2,
   "id": "4082959e",
   "metadata": {},
   "outputs": [],
   "source": [
    "df = pd.read_csv('updated_dataset.csv')"
   ]
  },
  {
   "cell_type": "code",
   "execution_count": 3,
   "id": "14cf0319",
   "metadata": {},
   "outputs": [
    {
     "data": {
      "text/html": [
       "<div>\n",
       "<style scoped>\n",
       "    .dataframe tbody tr th:only-of-type {\n",
       "        vertical-align: middle;\n",
       "    }\n",
       "\n",
       "    .dataframe tbody tr th {\n",
       "        vertical-align: top;\n",
       "    }\n",
       "\n",
       "    .dataframe thead th {\n",
       "        text-align: right;\n",
       "    }\n",
       "</style>\n",
       "<table border=\"1\" class=\"dataframe\">\n",
       "  <thead>\n",
       "    <tr style=\"text-align: right;\">\n",
       "      <th></th>\n",
       "      <th>Unnamed: 0</th>\n",
       "      <th>ID</th>\n",
       "      <th>Delivery_person_ID</th>\n",
       "      <th>Delivery_person_Age</th>\n",
       "      <th>Delivery_person_Ratings</th>\n",
       "      <th>Restaurant_latitude</th>\n",
       "      <th>Restaurant_longitude</th>\n",
       "      <th>Delivery_location_latitude</th>\n",
       "      <th>Delivery_location_longitude</th>\n",
       "      <th>Order_Date</th>\n",
       "      <th>...</th>\n",
       "      <th>Active_2</th>\n",
       "      <th>Active_3</th>\n",
       "      <th>Weight_1</th>\n",
       "      <th>Weight_2</th>\n",
       "      <th>Weight_3</th>\n",
       "      <th>WeightA_1</th>\n",
       "      <th>WeightA_2</th>\n",
       "      <th>WeightA_3</th>\n",
       "      <th>rating_weight</th>\n",
       "      <th>order_history_weight</th>\n",
       "    </tr>\n",
       "  </thead>\n",
       "  <tbody>\n",
       "    <tr>\n",
       "      <th>0</th>\n",
       "      <td>0</td>\n",
       "      <td>0x4607</td>\n",
       "      <td>INDORES13DEL02</td>\n",
       "      <td>37</td>\n",
       "      <td>4.9</td>\n",
       "      <td>22.745049</td>\n",
       "      <td>75.892471</td>\n",
       "      <td>22.765049</td>\n",
       "      <td>75.912471</td>\n",
       "      <td>19-03-2022</td>\n",
       "      <td>...</td>\n",
       "      <td>9.35</td>\n",
       "      <td>1.40</td>\n",
       "      <td>0.0143</td>\n",
       "      <td>0.1597</td>\n",
       "      <td>0.6128</td>\n",
       "      <td>0.9828</td>\n",
       "      <td>0.7823</td>\n",
       "      <td>0.7048</td>\n",
       "      <td>0.5644</td>\n",
       "      <td>0.4356</td>\n",
       "    </tr>\n",
       "    <tr>\n",
       "      <th>1</th>\n",
       "      <td>1</td>\n",
       "      <td>0xb379</td>\n",
       "      <td>BANGRES18DEL02</td>\n",
       "      <td>34</td>\n",
       "      <td>4.5</td>\n",
       "      <td>12.913041</td>\n",
       "      <td>77.683237</td>\n",
       "      <td>13.043041</td>\n",
       "      <td>77.813237</td>\n",
       "      <td>25-03-2022</td>\n",
       "      <td>...</td>\n",
       "      <td>2.64</td>\n",
       "      <td>10.08</td>\n",
       "      <td>0.5331</td>\n",
       "      <td>0.4526</td>\n",
       "      <td>0.4897</td>\n",
       "      <td>0.8654</td>\n",
       "      <td>0.6535</td>\n",
       "      <td>0.6569</td>\n",
       "      <td>0.6644</td>\n",
       "      <td>0.3356</td>\n",
       "    </tr>\n",
       "    <tr>\n",
       "      <th>2</th>\n",
       "      <td>2</td>\n",
       "      <td>0x5d6d</td>\n",
       "      <td>BANGRES19DEL01</td>\n",
       "      <td>23</td>\n",
       "      <td>4.4</td>\n",
       "      <td>12.914264</td>\n",
       "      <td>77.678400</td>\n",
       "      <td>12.924264</td>\n",
       "      <td>77.688400</td>\n",
       "      <td>19-03-2022</td>\n",
       "      <td>...</td>\n",
       "      <td>5.26</td>\n",
       "      <td>10.10</td>\n",
       "      <td>0.0872</td>\n",
       "      <td>0.4186</td>\n",
       "      <td>0.0201</td>\n",
       "      <td>0.9194</td>\n",
       "      <td>0.8707</td>\n",
       "      <td>0.8531</td>\n",
       "      <td>0.9219</td>\n",
       "      <td>0.0781</td>\n",
       "    </tr>\n",
       "    <tr>\n",
       "      <th>3</th>\n",
       "      <td>3</td>\n",
       "      <td>0x7a6a</td>\n",
       "      <td>COIMBRES13DEL02</td>\n",
       "      <td>38</td>\n",
       "      <td>4.7</td>\n",
       "      <td>11.003669</td>\n",
       "      <td>76.976494</td>\n",
       "      <td>11.053669</td>\n",
       "      <td>77.026494</td>\n",
       "      <td>05-04-2022</td>\n",
       "      <td>...</td>\n",
       "      <td>11.81</td>\n",
       "      <td>13.23</td>\n",
       "      <td>0.5528</td>\n",
       "      <td>0.9088</td>\n",
       "      <td>0.6642</td>\n",
       "      <td>0.3195</td>\n",
       "      <td>0.5428</td>\n",
       "      <td>0.9207</td>\n",
       "      <td>0.3716</td>\n",
       "      <td>0.6284</td>\n",
       "    </tr>\n",
       "    <tr>\n",
       "      <th>4</th>\n",
       "      <td>4</td>\n",
       "      <td>0x70a2</td>\n",
       "      <td>CHENRES12DEL01</td>\n",
       "      <td>32</td>\n",
       "      <td>4.6</td>\n",
       "      <td>12.972793</td>\n",
       "      <td>80.249982</td>\n",
       "      <td>13.012793</td>\n",
       "      <td>80.289982</td>\n",
       "      <td>26-03-2022</td>\n",
       "      <td>...</td>\n",
       "      <td>7.07</td>\n",
       "      <td>5.43</td>\n",
       "      <td>0.4019</td>\n",
       "      <td>0.9417</td>\n",
       "      <td>0.5699</td>\n",
       "      <td>0.0827</td>\n",
       "      <td>0.3017</td>\n",
       "      <td>0.1629</td>\n",
       "      <td>0.4708</td>\n",
       "      <td>0.5292</td>\n",
       "    </tr>\n",
       "  </tbody>\n",
       "</table>\n",
       "<p>5 rows × 42 columns</p>\n",
       "</div>"
      ],
      "text/plain": [
       "   Unnamed: 0       ID Delivery_person_ID  Delivery_person_Age  \\\n",
       "0           0  0x4607     INDORES13DEL02                    37   \n",
       "1           1  0xb379     BANGRES18DEL02                    34   \n",
       "2           2  0x5d6d     BANGRES19DEL01                    23   \n",
       "3           3  0x7a6a    COIMBRES13DEL02                    38   \n",
       "4           4  0x70a2     CHENRES12DEL01                    32   \n",
       "\n",
       "   Delivery_person_Ratings  Restaurant_latitude  Restaurant_longitude  \\\n",
       "0                      4.9            22.745049             75.892471   \n",
       "1                      4.5            12.913041             77.683237   \n",
       "2                      4.4            12.914264             77.678400   \n",
       "3                      4.7            11.003669             76.976494   \n",
       "4                      4.6            12.972793             80.249982   \n",
       "\n",
       "   Delivery_location_latitude  Delivery_location_longitude  Order_Date  ...  \\\n",
       "0                   22.765049                    75.912471  19-03-2022  ...   \n",
       "1                   13.043041                    77.813237  25-03-2022  ...   \n",
       "2                   12.924264                    77.688400  19-03-2022  ...   \n",
       "3                   11.053669                    77.026494  05-04-2022  ...   \n",
       "4                   13.012793                    80.289982  26-03-2022  ...   \n",
       "\n",
       "  Active_2 Active_3 Weight_1 Weight_2  Weight_3 WeightA_1 WeightA_2  \\\n",
       "0     9.35     1.40   0.0143   0.1597    0.6128    0.9828    0.7823   \n",
       "1     2.64    10.08   0.5331   0.4526    0.4897    0.8654    0.6535   \n",
       "2     5.26    10.10   0.0872   0.4186    0.0201    0.9194    0.8707   \n",
       "3    11.81    13.23   0.5528   0.9088    0.6642    0.3195    0.5428   \n",
       "4     7.07     5.43   0.4019   0.9417    0.5699    0.0827    0.3017   \n",
       "\n",
       "   WeightA_3 rating_weight order_history_weight  \n",
       "0     0.7048        0.5644               0.4356  \n",
       "1     0.6569        0.6644               0.3356  \n",
       "2     0.8531        0.9219               0.0781  \n",
       "3     0.9207        0.3716               0.6284  \n",
       "4     0.1629        0.4708               0.5292  \n",
       "\n",
       "[5 rows x 42 columns]"
      ]
     },
     "execution_count": 3,
     "metadata": {},
     "output_type": "execute_result"
    }
   ],
   "source": [
    "df.head()"
   ]
  },
  {
   "cell_type": "code",
   "execution_count": 4,
   "id": "3cc14fb5",
   "metadata": {},
   "outputs": [],
   "source": [
    "# df = df.dropna(axis = 1)"
   ]
  },
  {
   "cell_type": "code",
   "execution_count": 5,
   "id": "eeac5a5d",
   "metadata": {},
   "outputs": [
    {
     "data": {
      "text/plain": [
       "(45593, 42)"
      ]
     },
     "execution_count": 5,
     "metadata": {},
     "output_type": "execute_result"
    }
   ],
   "source": [
    "df.shape"
   ]
  },
  {
   "cell_type": "code",
   "execution_count": 6,
   "id": "d6fa04c7",
   "metadata": {},
   "outputs": [
    {
     "data": {
      "text/plain": [
       "Index(['Unnamed: 0', 'ID', 'Delivery_person_ID', 'Delivery_person_Age',\n",
       "       'Delivery_person_Ratings', 'Restaurant_latitude',\n",
       "       'Restaurant_longitude', 'Delivery_location_latitude',\n",
       "       'Delivery_location_longitude', 'Order_Date', 'Time_Orderd',\n",
       "       'Time_Order_picked', 'Weatherconditions', 'Road_traffic_density',\n",
       "       'Vehicle_condition', 'Type_of_order', 'Type_of_vehicle',\n",
       "       'multiple_deliveries', 'Festival', 'City', 'Time_taken(min)',\n",
       "       'Number of calls', 'Politeness', 'Freshness ', 'Temperature',\n",
       "       'Maximum wait time', 'Class', 'initial_bid', 'Order_1', 'Order_2',\n",
       "       'Order_3', 'Active_1', 'Active_2', 'Active_3', 'Weight_1', 'Weight_2',\n",
       "       'Weight_3', 'WeightA_1', 'WeightA_2', 'WeightA_3', 'rating_weight',\n",
       "       'order_history_weight'],\n",
       "      dtype='object')"
      ]
     },
     "execution_count": 6,
     "metadata": {},
     "output_type": "execute_result"
    }
   ],
   "source": [
    "df.columns"
   ]
  },
  {
   "cell_type": "code",
   "execution_count": 7,
   "id": "883a0b16",
   "metadata": {},
   "outputs": [],
   "source": [
    "df = df.drop(['ID', 'Delivery_person_Age', 'Weatherconditions', 'Road_traffic_density', 'Vehicle_condition', \n",
    "              'Type_of_order', 'multiple_deliveries', 'Festival', 'City'], axis = 1)"
   ]
  },
  {
   "cell_type": "code",
   "execution_count": 8,
   "id": "b1f7946c",
   "metadata": {},
   "outputs": [
    {
     "data": {
      "text/plain": [
       "Index(['Unnamed: 0', 'Delivery_person_ID', 'Delivery_person_Ratings',\n",
       "       'Restaurant_latitude', 'Restaurant_longitude',\n",
       "       'Delivery_location_latitude', 'Delivery_location_longitude',\n",
       "       'Order_Date', 'Time_Orderd', 'Time_Order_picked', 'Type_of_vehicle',\n",
       "       'Time_taken(min)', 'Number of calls', 'Politeness', 'Freshness ',\n",
       "       'Temperature', 'Maximum wait time', 'Class', 'initial_bid', 'Order_1',\n",
       "       'Order_2', 'Order_3', 'Active_1', 'Active_2', 'Active_3', 'Weight_1',\n",
       "       'Weight_2', 'Weight_3', 'WeightA_1', 'WeightA_2', 'WeightA_3',\n",
       "       'rating_weight', 'order_history_weight'],\n",
       "      dtype='object')"
      ]
     },
     "execution_count": 8,
     "metadata": {},
     "output_type": "execute_result"
    }
   ],
   "source": [
    "df.columns"
   ]
  },
  {
   "cell_type": "code",
   "execution_count": 9,
   "id": "80a5c432",
   "metadata": {},
   "outputs": [],
   "source": [
    "param = df[['Time_taken(min)',\n",
    "       'Number of calls', 'Politeness', 'Freshness ', 'Temperature',\n",
    "       'Maximum wait time']].to_numpy()"
   ]
  },
  {
   "cell_type": "code",
   "execution_count": 10,
   "id": "b5b83593",
   "metadata": {},
   "outputs": [],
   "source": [
    "# param"
   ]
  },
  {
   "cell_type": "code",
   "execution_count": 11,
   "id": "e5872940",
   "metadata": {},
   "outputs": [],
   "source": [
    "# New formula \n",
    "# Update = (Maximum Wait Time - Time taken(min)) * 10 + Politeness * 5 + Freshness * 7 + Temperature * 6 + Number of Calls * 4\n",
    "# Weights = [10, 5, 7, 6, 4]\n",
    "# Number of calls would signify how many times the customer has to call a delivery person"
   ]
  },
  {
   "cell_type": "code",
   "execution_count": 12,
   "id": "679708a0",
   "metadata": {},
   "outputs": [
    {
     "data": {
      "text/plain": [
       "(45593, 1)"
      ]
     },
     "execution_count": 12,
     "metadata": {},
     "output_type": "execute_result"
    }
   ],
   "source": [
    "# update - updates which are done in ratings on a scale on 1000. Will be scaled down to 1 eventually\n",
    "update = np.empty((45593, 1), dtype = float)\n",
    "for i in range(0, len(param)):\n",
    "    update[i] = 10 * (param[i][5] - param[i][0]) + 5 * param[i][2] + 7 * param[i][3] + param[i][4] * 6 + 4 * param[i][1]\n",
    "    \n",
    "update.shape"
   ]
  },
  {
   "cell_type": "code",
   "execution_count": 13,
   "id": "ede7aad4",
   "metadata": {},
   "outputs": [],
   "source": [
    "# for i in range(0, len(update)):\n",
    "#     print(update[i], \"\\n\")"
   ]
  },
  {
   "cell_type": "code",
   "execution_count": 14,
   "id": "df6658d5",
   "metadata": {},
   "outputs": [],
   "source": [
    "# Normalizing Customer Ratings\n",
    "# Using Min-Max Normalization\n",
    "\n",
    "normal_update = np.empty((45593, 1), dtype = float)\n",
    "m = max(update)\n",
    "n = min(update)\n",
    "for i in range(0, len(param)):\n",
    "    normal_update[i] = (m - update[i]) / (m - n)\n",
    "    normal_update[i] = normal_update[i] * 5\n",
    "    \n",
    "# print(normal_update)\n",
    "# print(max(normal_update))\n",
    "# print(min(normal_update))"
   ]
  },
  {
   "cell_type": "code",
   "execution_count": 15,
   "id": "563f0570",
   "metadata": {},
   "outputs": [],
   "source": [
    "# Created in replacement of the Deliver_person_ID\n",
    "id = np.empty((45593, 1), dtype = int)\n",
    "for i in range(0, len(id)):\n",
    "    id[i] = i + 1"
   ]
  },
  {
   "cell_type": "code",
   "execution_count": 16,
   "id": "0f9d4fd6",
   "metadata": {},
   "outputs": [],
   "source": [
    "# param.shape"
   ]
  },
  {
   "cell_type": "code",
   "execution_count": 17,
   "id": "80632d9b",
   "metadata": {},
   "outputs": [],
   "source": [
    "# param[5]"
   ]
  },
  {
   "cell_type": "code",
   "execution_count": 18,
   "id": "432067c8",
   "metadata": {},
   "outputs": [],
   "source": [
    "rat = df['Delivery_person_Ratings'].to_numpy()\n",
    "rat = rat.astype(np.float64)\n",
    "# print(rat.dtype)"
   ]
  },
  {
   "cell_type": "code",
   "execution_count": 19,
   "id": "32ceee67",
   "metadata": {},
   "outputs": [],
   "source": [
    "# for i in range(0, len(updated_ratings)):\n",
    "#     print(updated_ratings[i], \"\\n\")"
   ]
  },
  {
   "cell_type": "code",
   "execution_count": 20,
   "id": "3e060398",
   "metadata": {},
   "outputs": [],
   "source": [
    "# Plotting previous ratings and updated ratings"
   ]
  },
  {
   "cell_type": "code",
   "execution_count": 21,
   "id": "b4c1adaf",
   "metadata": {},
   "outputs": [],
   "source": [
    "# plt.bar(df['id'], df['Delivery_person_Ratings'])\n",
    "# plt.bar(df['id'], df['updated_ratings'])"
   ]
  },
  {
   "cell_type": "code",
   "execution_count": 22,
   "id": "809c6440",
   "metadata": {},
   "outputs": [],
   "source": [
    "df['normal_update'] = normal_update\n",
    "# df['updated_ratings'] = updated_ratings\n",
    "# df['updated_ratings']\n",
    "# df['id'] = id\n",
    "# x = df['updated_ratings'] - df['Delivery_person_Ratings']\n",
    "# max(x)\n",
    "# min(x)"
   ]
  },
  {
   "cell_type": "code",
   "execution_count": 23,
   "id": "1ddc9bf8",
   "metadata": {},
   "outputs": [],
   "source": [
    "# Finding p factor\n",
    "p = df['Weight_1'] * df['Order_1'] + df['Weight_2'] * df['Order_2'] + df['Weight_3'] * df['Order_3'] + df['WeightA_1'] * df['Active_1'] + df['WeightA_2'] * df['Active_2'] + df['WeightA_3'] * df['Active_3']"
   ]
  },
  {
   "cell_type": "code",
   "execution_count": 24,
   "id": "2abc9a4c",
   "metadata": {},
   "outputs": [],
   "source": [
    "# Finding factor a\n",
    "\n",
    "a = df['order_history_weight'] * p + df['rating_weight'] * df['normal_update']"
   ]
  },
  {
   "cell_type": "code",
   "execution_count": 25,
   "id": "fd2e7769",
   "metadata": {},
   "outputs": [
    {
     "name": "stdout",
     "output_type": "stream",
     "text": [
      "26148.0506735985\n",
      "0.7064658027567043\n"
     ]
    }
   ],
   "source": [
    "print(max(a))\n",
    "print(min(a))"
   ]
  },
  {
   "cell_type": "code",
   "execution_count": 48,
   "id": "2bcfc39d",
   "metadata": {},
   "outputs": [],
   "source": [
    "for i in range(0, len(param)):\n",
    "    update[i] = update[i] + (a[i] / 10000)\n",
    "    \n",
    "m = max(update)\n",
    "n = min(update)\n",
    "for i in range(0, len(param)):\n",
    "    normal_update[i] = (m - update[i]) / (m - n)\n",
    "    normal_update[i] = normal_update[i] * 5\n",
    "    \n",
    "df['normal_update'] = normal_update\n"
   ]
  },
  {
   "cell_type": "code",
   "execution_count": 49,
   "id": "b990ee90",
   "metadata": {},
   "outputs": [],
   "source": [
    "# Updated Ratings of the rider\n",
    "updated_ratings = np.empty((45593, 1), dtype = float)\n",
    "for i in range(0, len(update)):\n",
    "    updated_ratings[i] = rat[i] + (normal_update[i] / 10)\n",
    "    if updated_ratings[i] > 5:\n",
    "        updated_ratings[i] = 5\n",
    "df['updated_ratings'] = updated_ratings"
   ]
  },
  {
   "cell_type": "code",
   "execution_count": 50,
   "id": "35c3dec8",
   "metadata": {},
   "outputs": [
    {
     "data": {
      "text/html": [
       "<div>\n",
       "<style scoped>\n",
       "    .dataframe tbody tr th:only-of-type {\n",
       "        vertical-align: middle;\n",
       "    }\n",
       "\n",
       "    .dataframe tbody tr th {\n",
       "        vertical-align: top;\n",
       "    }\n",
       "\n",
       "    .dataframe thead th {\n",
       "        text-align: right;\n",
       "    }\n",
       "</style>\n",
       "<table border=\"1\" class=\"dataframe\">\n",
       "  <thead>\n",
       "    <tr style=\"text-align: right;\">\n",
       "      <th></th>\n",
       "      <th>Unnamed: 0</th>\n",
       "      <th>Delivery_person_ID</th>\n",
       "      <th>Delivery_person_Ratings</th>\n",
       "      <th>Restaurant_latitude</th>\n",
       "      <th>Restaurant_longitude</th>\n",
       "      <th>Delivery_location_latitude</th>\n",
       "      <th>Delivery_location_longitude</th>\n",
       "      <th>Order_Date</th>\n",
       "      <th>Time_Orderd</th>\n",
       "      <th>Time_Order_picked</th>\n",
       "      <th>...</th>\n",
       "      <th>Weight_2</th>\n",
       "      <th>Weight_3</th>\n",
       "      <th>WeightA_1</th>\n",
       "      <th>WeightA_2</th>\n",
       "      <th>WeightA_3</th>\n",
       "      <th>rating_weight</th>\n",
       "      <th>order_history_weight</th>\n",
       "      <th>normal_update</th>\n",
       "      <th>machine_bid</th>\n",
       "      <th>updated_ratings</th>\n",
       "    </tr>\n",
       "  </thead>\n",
       "  <tbody>\n",
       "    <tr>\n",
       "      <th>0</th>\n",
       "      <td>0</td>\n",
       "      <td>INDORES13DEL02</td>\n",
       "      <td>4.9</td>\n",
       "      <td>22.745049</td>\n",
       "      <td>75.892471</td>\n",
       "      <td>22.765049</td>\n",
       "      <td>75.912471</td>\n",
       "      <td>19-03-2022</td>\n",
       "      <td>11:30:00</td>\n",
       "      <td>11:45:00</td>\n",
       "      <td>...</td>\n",
       "      <td>0.1597</td>\n",
       "      <td>0.6128</td>\n",
       "      <td>0.9828</td>\n",
       "      <td>0.7823</td>\n",
       "      <td>0.7048</td>\n",
       "      <td>0.5644</td>\n",
       "      <td>0.4356</td>\n",
       "      <td>2.957937</td>\n",
       "      <td>1.342768e-311</td>\n",
       "      <td>5.000000</td>\n",
       "    </tr>\n",
       "    <tr>\n",
       "      <th>1</th>\n",
       "      <td>1</td>\n",
       "      <td>BANGRES18DEL02</td>\n",
       "      <td>4.5</td>\n",
       "      <td>12.913041</td>\n",
       "      <td>77.683237</td>\n",
       "      <td>13.043041</td>\n",
       "      <td>77.813237</td>\n",
       "      <td>25-03-2022</td>\n",
       "      <td>19:45:00</td>\n",
       "      <td>19:50:00</td>\n",
       "      <td>...</td>\n",
       "      <td>0.4526</td>\n",
       "      <td>0.4897</td>\n",
       "      <td>0.8654</td>\n",
       "      <td>0.6535</td>\n",
       "      <td>0.6569</td>\n",
       "      <td>0.6644</td>\n",
       "      <td>0.3356</td>\n",
       "      <td>3.065199</td>\n",
       "      <td>1.342769e-311</td>\n",
       "      <td>4.806520</td>\n",
       "    </tr>\n",
       "    <tr>\n",
       "      <th>2</th>\n",
       "      <td>2</td>\n",
       "      <td>BANGRES19DEL01</td>\n",
       "      <td>4.4</td>\n",
       "      <td>12.914264</td>\n",
       "      <td>77.678400</td>\n",
       "      <td>12.924264</td>\n",
       "      <td>77.688400</td>\n",
       "      <td>19-03-2022</td>\n",
       "      <td>08:30:00</td>\n",
       "      <td>08:45:00</td>\n",
       "      <td>...</td>\n",
       "      <td>0.4186</td>\n",
       "      <td>0.0201</td>\n",
       "      <td>0.9194</td>\n",
       "      <td>0.8707</td>\n",
       "      <td>0.8531</td>\n",
       "      <td>0.9219</td>\n",
       "      <td>0.0781</td>\n",
       "      <td>2.186188</td>\n",
       "      <td>0.000000e+00</td>\n",
       "      <td>4.618619</td>\n",
       "    </tr>\n",
       "    <tr>\n",
       "      <th>3</th>\n",
       "      <td>3</td>\n",
       "      <td>COIMBRES13DEL02</td>\n",
       "      <td>4.7</td>\n",
       "      <td>11.003669</td>\n",
       "      <td>76.976494</td>\n",
       "      <td>11.053669</td>\n",
       "      <td>77.026494</td>\n",
       "      <td>05-04-2022</td>\n",
       "      <td>18:00:00</td>\n",
       "      <td>18:10:00</td>\n",
       "      <td>...</td>\n",
       "      <td>0.9088</td>\n",
       "      <td>0.6642</td>\n",
       "      <td>0.3195</td>\n",
       "      <td>0.5428</td>\n",
       "      <td>0.9207</td>\n",
       "      <td>0.3716</td>\n",
       "      <td>0.6284</td>\n",
       "      <td>2.573011</td>\n",
       "      <td>0.000000e+00</td>\n",
       "      <td>4.957301</td>\n",
       "    </tr>\n",
       "    <tr>\n",
       "      <th>4</th>\n",
       "      <td>4</td>\n",
       "      <td>CHENRES12DEL01</td>\n",
       "      <td>4.6</td>\n",
       "      <td>12.972793</td>\n",
       "      <td>80.249982</td>\n",
       "      <td>13.012793</td>\n",
       "      <td>80.289982</td>\n",
       "      <td>26-03-2022</td>\n",
       "      <td>13:30:00</td>\n",
       "      <td>13:45:00</td>\n",
       "      <td>...</td>\n",
       "      <td>0.9417</td>\n",
       "      <td>0.5699</td>\n",
       "      <td>0.0827</td>\n",
       "      <td>0.3017</td>\n",
       "      <td>0.1629</td>\n",
       "      <td>0.4708</td>\n",
       "      <td>0.5292</td>\n",
       "      <td>3.141786</td>\n",
       "      <td>-1.000000e+00</td>\n",
       "      <td>4.914179</td>\n",
       "    </tr>\n",
       "  </tbody>\n",
       "</table>\n",
       "<p>5 rows × 36 columns</p>\n",
       "</div>"
      ],
      "text/plain": [
       "   Unnamed: 0 Delivery_person_ID  Delivery_person_Ratings  \\\n",
       "0           0    INDORES13DEL02                       4.9   \n",
       "1           1    BANGRES18DEL02                       4.5   \n",
       "2           2    BANGRES19DEL01                       4.4   \n",
       "3           3   COIMBRES13DEL02                       4.7   \n",
       "4           4    CHENRES12DEL01                       4.6   \n",
       "\n",
       "   Restaurant_latitude  Restaurant_longitude  Delivery_location_latitude  \\\n",
       "0            22.745049             75.892471                   22.765049   \n",
       "1            12.913041             77.683237                   13.043041   \n",
       "2            12.914264             77.678400                   12.924264   \n",
       "3            11.003669             76.976494                   11.053669   \n",
       "4            12.972793             80.249982                   13.012793   \n",
       "\n",
       "   Delivery_location_longitude  Order_Date Time_Orderd Time_Order_picked  ...  \\\n",
       "0                    75.912471  19-03-2022    11:30:00          11:45:00  ...   \n",
       "1                    77.813237  25-03-2022    19:45:00          19:50:00  ...   \n",
       "2                    77.688400  19-03-2022    08:30:00          08:45:00  ...   \n",
       "3                    77.026494  05-04-2022    18:00:00          18:10:00  ...   \n",
       "4                    80.289982  26-03-2022    13:30:00          13:45:00  ...   \n",
       "\n",
       "  Weight_2  Weight_3  WeightA_1  WeightA_2  WeightA_3  rating_weight  \\\n",
       "0   0.1597    0.6128     0.9828     0.7823     0.7048         0.5644   \n",
       "1   0.4526    0.4897     0.8654     0.6535     0.6569         0.6644   \n",
       "2   0.4186    0.0201     0.9194     0.8707     0.8531         0.9219   \n",
       "3   0.9088    0.6642     0.3195     0.5428     0.9207         0.3716   \n",
       "4   0.9417    0.5699     0.0827     0.3017     0.1629         0.4708   \n",
       "\n",
       "   order_history_weight  normal_update    machine_bid  updated_ratings  \n",
       "0                0.4356       2.957937  1.342768e-311         5.000000  \n",
       "1                0.3356       3.065199  1.342769e-311         4.806520  \n",
       "2                0.0781       2.186188   0.000000e+00         4.618619  \n",
       "3                0.6284       2.573011   0.000000e+00         4.957301  \n",
       "4                0.5292       3.141786  -1.000000e+00         4.914179  \n",
       "\n",
       "[5 rows x 36 columns]"
      ]
     },
     "execution_count": 50,
     "metadata": {},
     "output_type": "execute_result"
    }
   ],
   "source": [
    "df.head()"
   ]
  },
  {
   "cell_type": "code",
   "execution_count": 51,
   "id": "58f1a36c",
   "metadata": {},
   "outputs": [],
   "source": [
    "import random"
   ]
  },
  {
   "cell_type": "code",
   "execution_count": 52,
   "id": "6819d005",
   "metadata": {},
   "outputs": [],
   "source": [
    "sample_size = 20"
   ]
  },
  {
   "cell_type": "code",
   "execution_count": 53,
   "id": "c69e53d9",
   "metadata": {},
   "outputs": [],
   "source": [
    "# Sampling without replacement\n",
    "sample = df.sample(n = sample_size)\n",
    "sample = sample.sort_values(by = ['updated_ratings'])\n",
    "\n",
    "id = np.empty((sample_size, 1), dtype = int)\n",
    "for i in range(0, len(id)):\n",
    "    id[i] = i + 1\n",
    "sample['id'] = id\n",
    "# data_sorted = sorted(zip(x, y), key=lambda x: x[1])\n",
    "# sample"
   ]
  },
  {
   "cell_type": "code",
   "execution_count": 54,
   "id": "873db8ca",
   "metadata": {},
   "outputs": [
    {
     "data": {
      "text/plain": [
       "[<matplotlib.lines.Line2D at 0x278ceca9040>]"
      ]
     },
     "execution_count": 54,
     "metadata": {},
     "output_type": "execute_result"
    },
    {
     "data": {
      "image/png": "[encoded data removed]",
      "text/plain": [
       "<Figure size 640x480 with 1 Axes>"
      ]
     },
     "metadata": {},
     "output_type": "display_data"
    }
   ],
   "source": [
    "# Printing Line Chart\n",
    "plt.plot(sample['id'], sample['Delivery_person_Ratings'], color = 'blue')\n",
    "plt.plot(sample['id'], sample['updated_ratings'], color = 'orange')"
   ]
  },
  {
   "cell_type": "code",
   "execution_count": 55,
   "id": "83fa8db6",
   "metadata": {},
   "outputs": [
    {
     "data": {
      "text/plain": [
       "<BarContainer object of 20 artists>"
      ]
     },
     "execution_count": 55,
     "metadata": {},
     "output_type": "execute_result"
    },
    {
     "data": {
      "image/png": "[encoded data removed]",
      "text/plain": [
       "<Figure size 640x480 with 1 Axes>"
      ]
     },
     "metadata": {},
     "output_type": "display_data"
    }
   ],
   "source": [
    "# Printing Bar Chart\n",
    "plt.bar(sample['id'], sample['Delivery_person_Ratings'], color = 'blue')\n",
    "plt.bar(sample['id'], sample['updated_ratings'], color = 'orange')"
   ]
  },
  {
   "cell_type": "code",
   "execution_count": 56,
   "id": "3a97bc5b",
   "metadata": {},
   "outputs": [],
   "source": [
    "# Printing Machine Predicted Bid using rating as a parameter"
   ]
  },
  {
   "cell_type": "code",
   "execution_count": 57,
   "id": "9eaecbfd",
   "metadata": {},
   "outputs": [],
   "source": [
    "from sklearn.model_selection import train_test_split\n",
    "from sklearn.metrics import accuracy_score, confusion_matrix\n",
    "from sklearn.linear_model import LogisticRegression"
   ]
  },
  {
   "cell_type": "code",
   "execution_count": 58,
   "id": "c2f40602",
   "metadata": {},
   "outputs": [],
   "source": [
    "X = pd.DataFrame(df.loc[:, ['Politeness', 'Temperature', 'Freshness ']])"
   ]
  },
  {
   "cell_type": "code",
   "execution_count": 59,
   "id": "268e9d87",
   "metadata": {},
   "outputs": [],
   "source": [
    "# X"
   ]
  },
  {
   "cell_type": "code",
   "execution_count": 60,
   "id": "e3d27ea4",
   "metadata": {},
   "outputs": [],
   "source": [
    "Y = df['Class']"
   ]
  },
  {
   "cell_type": "code",
   "execution_count": 61,
   "id": "bdceade1",
   "metadata": {
    "scrolled": true
   },
   "outputs": [],
   "source": [
    "# Y"
   ]
  },
  {
   "cell_type": "code",
   "execution_count": 62,
   "id": "a5ebd453",
   "metadata": {},
   "outputs": [],
   "source": [
    "X_train, X_test, Y_train, Y_test = train_test_split(X, Y, test_size = 0.20, random_state = 42)"
   ]
  },
  {
   "cell_type": "code",
   "execution_count": 63,
   "id": "616d8a2f",
   "metadata": {},
   "outputs": [
    {
     "data": {
      "text/html": [
       "<style>#sk-container-id-2 {color: black;background-color: white;}#sk-container-id-2 pre{padding: 0;}#sk-container-id-2 div.sk-toggleable {background-color: white;}#sk-container-id-2 label.sk-toggleable__label {cursor: pointer;display: block;width: 100%;margin-bottom: 0;padding: 0.3em;box-sizing: border-box;text-align: center;}#sk-container-id-2 label.sk-toggleable__label-arrow:before {content: \"▸\";float: left;margin-right: 0.25em;color: #696969;}#sk-container-id-2 label.sk-toggleable__label-arrow:hover:before {color: black;}#sk-container-id-2 div.sk-estimator:hover label.sk-toggleable__label-arrow:before {color: black;}#sk-container-id-2 div.sk-toggleable__content {max-height: 0;max-width: 0;overflow: hidden;text-align: left;background-color: #f0f8ff;}#sk-container-id-2 div.sk-toggleable__content pre {margin: 0.2em;color: black;border-radius: 0.25em;background-color: #f0f8ff;}#sk-container-id-2 input.sk-toggleable__control:checked~div.sk-toggleable__content {max-height: 200px;max-width: 100%;overflow: auto;}#sk-container-id-2 input.sk-toggleable__control:checked~label.sk-toggleable__label-arrow:before {content: \"▾\";}#sk-container-id-2 div.sk-estimator input.sk-toggleable__control:checked~label.sk-toggleable__label {background-color: #d4ebff;}#sk-container-id-2 div.sk-label input.sk-toggleable__control:checked~label.sk-toggleable__label {background-color: #d4ebff;}#sk-container-id-2 input.sk-hidden--visually {border: 0;clip: rect(1px 1px 1px 1px);clip: rect(1px, 1px, 1px, 1px);height: 1px;margin: -1px;overflow: hidden;padding: 0;position: absolute;width: 1px;}#sk-container-id-2 div.sk-estimator {font-family: monospace;background-color: #f0f8ff;border: 1px dotted black;border-radius: 0.25em;box-sizing: border-box;margin-bottom: 0.5em;}#sk-container-id-2 div.sk-estimator:hover {background-color: #d4ebff;}#sk-container-id-2 div.sk-parallel-item::after {content: \"\";width: 100%;border-bottom: 1px solid gray;flex-grow: 1;}#sk-container-id-2 div.sk-label:hover label.sk-toggleable__label {background-color: #d4ebff;}#sk-container-id-2 div.sk-serial::before {content: \"\";position: absolute;border-left: 1px solid gray;box-sizing: border-box;top: 0;bottom: 0;left: 50%;z-index: 0;}#sk-container-id-2 div.sk-serial {display: flex;flex-direction: column;align-items: center;background-color: white;padding-right: 0.2em;padding-left: 0.2em;position: relative;}#sk-container-id-2 div.sk-item {position: relative;z-index: 1;}#sk-container-id-2 div.sk-parallel {display: flex;align-items: stretch;justify-content: center;background-color: white;position: relative;}#sk-container-id-2 div.sk-item::before, #sk-container-id-2 div.sk-parallel-item::before {content: \"\";position: absolute;border-left: 1px solid gray;box-sizing: border-box;top: 0;bottom: 0;left: 50%;z-index: -1;}#sk-container-id-2 div.sk-parallel-item {display: flex;flex-direction: column;z-index: 1;position: relative;background-color: white;}#sk-container-id-2 div.sk-parallel-item:first-child::after {align-self: flex-end;width: 50%;}#sk-container-id-2 div.sk-parallel-item:last-child::after {align-self: flex-start;width: 50%;}#sk-container-id-2 div.sk-parallel-item:only-child::after {width: 0;}#sk-container-id-2 div.sk-dashed-wrapped {border: 1px dashed gray;margin: 0 0.4em 0.5em 0.4em;box-sizing: border-box;padding-bottom: 0.4em;background-color: white;}#sk-container-id-2 div.sk-label label {font-family: monospace;font-weight: bold;display: inline-block;line-height: 1.2em;}#sk-container-id-2 div.sk-label-container {text-align: center;}#sk-container-id-2 div.sk-container {/* jupyter's `normalize.less` sets `[hidden] { display: none; }` but bootstrap.min.css set `[hidden] { display: none !important; }` so we also need the `!important` here to be able to override the default hidden behavior on the sphinx rendered scikit-learn.org. See: https://github.com/scikit-learn/scikit-learn/issues/21755 */display: inline-block !important;position: relative;}#sk-container-id-2 div.sk-text-repr-fallback {display: none;}</style><div id=\"sk-container-id-2\" class=\"sk-top-container\"><div class=\"sk-text-repr-fallback\"><pre>LogisticRegression()</pre><b>In a Jupyter environment, please rerun this cell to show the HTML representation or trust the notebook. <br />On GitHub, the HTML representation is unable to render, please try loading this page with nbviewer.org.</b></div><div class=\"sk-container\" hidden><div class=\"sk-item\"><div class=\"sk-estimator sk-toggleable\"><input class=\"sk-toggleable__control sk-hidden--visually\" id=\"sk-estimator-id-2\" type=\"checkbox\" checked><label for=\"sk-estimator-id-2\" class=\"sk-toggleable__label sk-toggleable__label-arrow\">LogisticRegression</label><div class=\"sk-toggleable__content\"><pre>LogisticRegression()</pre></div></div></div></div></div>"
      ],
      "text/plain": [
       "LogisticRegression()"
      ]
     },
     "execution_count": 63,
     "metadata": {},
     "output_type": "execute_result"
    }
   ],
   "source": [
    "model = LogisticRegression()\n",
    "model.fit(X_train, Y_train)"
   ]
  },
  {
   "cell_type": "code",
   "execution_count": 64,
   "id": "d6195fa1",
   "metadata": {},
   "outputs": [],
   "source": [
    "y_pred = model.predict(X_test)\n",
    "# y_pred"
   ]
  },
  {
   "cell_type": "code",
   "execution_count": 65,
   "id": "d223a08b",
   "metadata": {},
   "outputs": [],
   "source": [
    "# Calculating the sigmoid\n",
    "def sigmoid (value):\n",
    "    return 1 / (1 + np.exp(-value))"
   ]
  },
  {
   "cell_type": "code",
   "execution_count": 66,
   "id": "f2f3dcb1",
   "metadata": {},
   "outputs": [],
   "source": [
    "# for i in range(0, len(percent_increase)):\n",
    "#     print(percent_increase[i])"
   ]
  },
  {
   "cell_type": "code",
   "execution_count": 67,
   "id": "cfdf1477",
   "metadata": {},
   "outputs": [],
   "source": [
    "Price = 1000\n",
    "min_bid = 100\n",
    "max_bid = 200"
   ]
  },
  {
   "cell_type": "code",
   "execution_count": 68,
   "id": "4b04f376",
   "metadata": {},
   "outputs": [
    {
     "name": "stdout",
     "output_type": "stream",
     "text": [
      "[1.]\n"
     ]
    },
    {
     "name": "stderr",
     "output_type": "stream",
     "text": [
      "C:\\Users\\UDAY MITTAL\\AppData\\Local\\Temp\\ipykernel_18488\\3533062899.py:10: RuntimeWarning: divide by zero encountered in divide\n",
      "  a = (max_bid - min_bid) / (max(bid) - min(bid))\n",
      "C:\\Users\\UDAY MITTAL\\AppData\\Local\\Temp\\ipykernel_18488\\3533062899.py:14: RuntimeWarning: invalid value encountered in add\n",
      "  bid[i] = a * bid[i] + b\n"
     ]
    }
   ],
   "source": [
    "bid = np.empty((45593, 1), dtype = float)\n",
    "for i in range(0, len(bid)):\n",
    "    x = sigmoid(updated_ratings[i] / 5)\n",
    "    x = (x - 0.5) / 0.5\n",
    "    bid[i] = x * (max_bid - min_bid) + min_bid\n",
    "    bid[i] = sigmoid(bid[i])\n",
    "    \n",
    "print(min(bid))\n",
    "\n",
    "a = (max_bid - min_bid) / (max(bid) - min(bid))\n",
    "b = min_bid - a * min(bid)\n",
    "\n",
    "for i in range(0, len(bid)):\n",
    "    bid[i] = a * bid[i] + b"
   ]
  },
  {
   "cell_type": "code",
   "execution_count": 69,
   "id": "96a80fa2",
   "metadata": {},
   "outputs": [],
   "source": [
    "# Calculating the sigmoid of the update obtained in rating after applying the algorithm\n",
    "percent_increase = np.empty((45593, 1), dtype = float)\n",
    "for i in range(0, len(percent_increase)):\n",
    "#     percent_increase[i] = sigmoid(updated_ratings[i] - rat[i])\n",
    "    percent_increase[i] = sigmoid(updated_ratings[i])"
   ]
  },
  {
   "cell_type": "code",
   "execution_count": 70,
   "id": "d7bd73b5",
   "metadata": {},
   "outputs": [],
   "source": [
    "# machine_bid indicating the bid predicted by the machine1\n",
    "# Reason for 0.50. Machine predicted \n",
    "machine_bid = np.empty((45593, 1), dtype = float)\n",
    "machine_bid = bid\n",
    "c = 0\n",
    "d = 0\n",
    "# for i in range(0, len(machine_bid)):\n",
    "# #     if percent_increase[i] > 0.5:\n",
    "#     machine_bid[i] = df['initial_bid'][i] * (1 + percent_increase[i])\n",
    "#     elif percent_increase[i] == 0.5:\n",
    "#         machine_bid[i] = df['initial_bid'][i]\n",
    "#         d = d + 1\n",
    "#     else:\n",
    "#         machine_bid[i] = df['initial_bid'][i] - df['initial_bid'][i] * percent_increase[i]\n",
    "#         c = c + 1"
   ]
  },
  {
   "cell_type": "code",
   "execution_count": 71,
   "id": "11a1c5a6",
   "metadata": {},
   "outputs": [
    {
     "name": "stdout",
     "output_type": "stream",
     "text": [
      "0 0\n"
     ]
    }
   ],
   "source": [
    "# for i in range(0, len(machine_bid)):\n",
    "#     print(machine_bid[i])\n",
    "print(c, d)"
   ]
  },
  {
   "cell_type": "code",
   "execution_count": 72,
   "id": "37aa022c",
   "metadata": {},
   "outputs": [],
   "source": [
    "df['machine_bid'] = machine_bid"
   ]
  },
  {
   "cell_type": "code",
   "execution_count": 73,
   "id": "ef489915",
   "metadata": {},
   "outputs": [],
   "source": [
    "# plt.plot(df['machine_bid'], df['updated_ratings'])"
   ]
  },
  {
   "cell_type": "code",
   "execution_count": 74,
   "id": "bf913f82",
   "metadata": {},
   "outputs": [],
   "source": [
    "sample_size = 100\n",
    "sample = df.sample(n = sample_size)\n",
    "\n",
    "# change refers to the change in the rating of the rider\n",
    "\n",
    "id = np.empty((sample_size, 1), dtype = int)\n",
    "for i in range(0, len(id)):\n",
    "    id[i] = i + 1\n",
    "sample['id'] = id\n",
    "sample['change'] = sample['updated_ratings'] - sample['Delivery_person_Ratings']\n",
    "sample = sample.sort_values(by = ['change'])\n",
    "# data_sorted = sorted(zip(x, y), key=lambda x: x[1])\n",
    "# sample"
   ]
  },
  {
   "cell_type": "code",
   "execution_count": 75,
   "id": "bb3ce82d",
   "metadata": {},
   "outputs": [
    {
     "data": {
      "text/plain": [
       "Text(0, 0.5, 'Machine Predicted Bid')"
      ]
     },
     "execution_count": 75,
     "metadata": {},
     "output_type": "execute_result"
    },
    {
     "data": {
      "image/png": "[encoded data removed]",
      "text/plain": [
       "<Figure size 640x480 with 1 Axes>"
      ]
     },
     "metadata": {},
     "output_type": "display_data"
    }
   ],
   "source": [
    "plt.plot(sample['change'], sample['machine_bid'], color = 'blue')\n",
    "plt.xlabel('Rating Change')\n",
    "plt.ylabel('Machine Predicted Bid')"
   ]
  },
  {
   "cell_type": "code",
   "execution_count": 76,
   "id": "22ef010e",
   "metadata": {},
   "outputs": [
    {
     "data": {
      "text/plain": [
       "Text(0, 0.5, 'Machine Predicted Bid')"
      ]
     },
     "execution_count": 76,
     "metadata": {},
     "output_type": "execute_result"
    },
    {
     "data": {
      "image/png": "[encoded data removed]",
      "text/plain": [
       "<Figure size 640x480 with 1 Axes>"
      ]
     },
     "metadata": {},
     "output_type": "display_data"
    }
   ],
   "source": [
    "# x = sample('updated_ratings')\n",
    "# sample.sort_values(by = ['updated_ratings'])\n",
    "plt.plot(sample['updated_ratings'], sample['machine_bid'], color = 'blue')\n",
    "plt.xlabel('Rating')\n",
    "plt.ylabel('Machine Predicted Bid')"
   ]
  },
  {
   "cell_type": "code",
   "execution_count": null,
   "id": "3e2118fd",
   "metadata": {},
   "outputs": [],
   "source": []
  }
 ],
 "metadata": {
  "kernelspec": {
   "display_name": "Python 3 (ipykernel)",
   "language": "python",
   "name": "python3"
  },
  "language_info": {
   "codemirror_mode": {
    "name": "ipython",
    "version": 3
   },
   "file_extension": ".py",
   "mimetype": "text/x-python",
   "name": "python",
   "nbconvert_exporter": "python",
   "pygments_lexer": "ipython3",
   "version": "3.9.16"
  }
 },
 "nbformat": 4,
 "nbformat_minor": 5
}
